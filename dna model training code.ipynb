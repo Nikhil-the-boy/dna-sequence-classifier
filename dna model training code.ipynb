{
 "cells": [
  {
   "cell_type": "code",
   "execution_count": 1,
   "id": "a4ec0108",
   "metadata": {},
   "outputs": [],
   "source": [
    "# Data handling\n",
    "import pandas as pd\n",
    "import numpy as np\n",
    "\n",
    "# Warnings\n",
    "import warnings\n",
    "\n",
    "# Model and evaluation\n",
    "from sklearn.ensemble import RandomForestClassifier\n",
    "from sklearn.model_selection import train_test_split, StratifiedKFold\n",
    "from sklearn.preprocessing import LabelEncoder\n",
    "from sklearn.metrics import accuracy_score, classification_report, confusion_matrix, f1_score\n",
    "from sklearn.utils.class_weight import compute_class_weight\n",
    "from sklearn.exceptions import UndefinedMetricWarning\n",
    "\n",
    "# Utilities and plotting\n",
    "from collections import Counter\n",
    "import matplotlib.pyplot as plt\n",
    "import seaborn as sns\n"
   ]
  },
  {
   "cell_type": "code",
   "execution_count": 2,
   "id": "f5cd3eb5",
   "metadata": {},
   "outputs": [],
   "source": [
    "# Ignore general user warnings (e.g., from seaborn, pandas)\n",
    "warnings.filterwarnings(\"ignore\", category=UserWarning)\n",
    "\n",
    "# Ignore warnings for undefined metrics (e.g., F1 score when no positive predictions)\n",
    "warnings.filterwarnings(\"ignore\", category=UndefinedMetricWarning)"
   ]
  },
  {
   "cell_type": "code",
   "execution_count": 3,
   "id": "65abf1ee",
   "metadata": {},
   "outputs": [],
   "source": [
    "# Load the dataset from Excel file\n",
    "df = pd.read_excel('train.xlsx')"
   ]
  },
  {
   "cell_type": "code",
   "execution_count": 4,
   "id": "3283da3c",
   "metadata": {},
   "outputs": [
    {
     "data": {
      "text/html": [
       "<div>\n",
       "<style scoped>\n",
       "    .dataframe tbody tr th:only-of-type {\n",
       "        vertical-align: middle;\n",
       "    }\n",
       "\n",
       "    .dataframe tbody tr th {\n",
       "        vertical-align: top;\n",
       "    }\n",
       "\n",
       "    .dataframe thead th {\n",
       "        text-align: right;\n",
       "    }\n",
       "</style>\n",
       "<table border=\"1\" class=\"dataframe\">\n",
       "  <thead>\n",
       "    <tr style=\"text-align: right;\">\n",
       "      <th></th>\n",
       "      <th>Unnamed: 0</th>\n",
       "      <th>NCBIGeneID</th>\n",
       "      <th>Symbol</th>\n",
       "      <th>Description</th>\n",
       "      <th>GeneType</th>\n",
       "      <th>GeneGroupMethod</th>\n",
       "      <th>NucleotideSequence</th>\n",
       "    </tr>\n",
       "  </thead>\n",
       "  <tbody>\n",
       "    <tr>\n",
       "      <th>0</th>\n",
       "      <td>0</td>\n",
       "      <td>106481178</td>\n",
       "      <td>RNU4-21P</td>\n",
       "      <td>RNA, U4 small nuclear 21, pseudogene</td>\n",
       "      <td>PSEUDO</td>\n",
       "      <td>NCBI Ortholog</td>\n",
       "      <td>&lt;AGCTTAGCACAGTGGCAGTATCATAGGCAGTGAGGTTTATCCGAG...</td>\n",
       "    </tr>\n",
       "    <tr>\n",
       "      <th>1</th>\n",
       "      <td>1</td>\n",
       "      <td>123477792</td>\n",
       "      <td>LOC123477792</td>\n",
       "      <td>Sharpr-MPRA regulatory region 12926</td>\n",
       "      <td>BIOLOGICAL_REGION</td>\n",
       "      <td>NCBI Ortholog</td>\n",
       "      <td>&lt;CTGGAGCGGCCACGATGTGAACTGTCACCGGCCACTGCTGCTCCG...</td>\n",
       "    </tr>\n",
       "    <tr>\n",
       "      <th>2</th>\n",
       "      <td>2</td>\n",
       "      <td>113174975</td>\n",
       "      <td>LOC113174975</td>\n",
       "      <td>Sharpr-MPRA regulatory region 7591</td>\n",
       "      <td>BIOLOGICAL_REGION</td>\n",
       "      <td>NCBI Ortholog</td>\n",
       "      <td>&lt;TTCCCAATTTTTCCTCTGCTTTTTAATTTTCTAGTTTCCTTTTTC...</td>\n",
       "    </tr>\n",
       "    <tr>\n",
       "      <th>3</th>\n",
       "      <td>3</td>\n",
       "      <td>116216107</td>\n",
       "      <td>LOC116216107</td>\n",
       "      <td>CRISPRi-validated cis-regulatory element chr10...</td>\n",
       "      <td>BIOLOGICAL_REGION</td>\n",
       "      <td>NCBI Ortholog</td>\n",
       "      <td>&lt;CGCCCAGGCTGGAGTGCAGTGGCGCCATCTCGGCTCACTGCAGGC...</td>\n",
       "    </tr>\n",
       "    <tr>\n",
       "      <th>4</th>\n",
       "      <td>4</td>\n",
       "      <td>28502</td>\n",
       "      <td>IGHD2-21</td>\n",
       "      <td>immunoglobulin heavy diversity 2-21</td>\n",
       "      <td>OTHER</td>\n",
       "      <td>NCBI Ortholog</td>\n",
       "      <td>&lt;AGCATATTGTGGTGGTGACTGCTATTCC&gt;</td>\n",
       "    </tr>\n",
       "  </tbody>\n",
       "</table>\n",
       "</div>"
      ],
      "text/plain": [
       "   Unnamed: 0  NCBIGeneID        Symbol  \\\n",
       "0           0   106481178      RNU4-21P   \n",
       "1           1   123477792  LOC123477792   \n",
       "2           2   113174975  LOC113174975   \n",
       "3           3   116216107  LOC116216107   \n",
       "4           4       28502      IGHD2-21   \n",
       "\n",
       "                                         Description           GeneType  \\\n",
       "0               RNA, U4 small nuclear 21, pseudogene             PSEUDO   \n",
       "1                Sharpr-MPRA regulatory region 12926  BIOLOGICAL_REGION   \n",
       "2                 Sharpr-MPRA regulatory region 7591  BIOLOGICAL_REGION   \n",
       "3  CRISPRi-validated cis-regulatory element chr10...  BIOLOGICAL_REGION   \n",
       "4                immunoglobulin heavy diversity 2-21              OTHER   \n",
       "\n",
       "  GeneGroupMethod                                 NucleotideSequence  \n",
       "0   NCBI Ortholog  <AGCTTAGCACAGTGGCAGTATCATAGGCAGTGAGGTTTATCCGAG...  \n",
       "1   NCBI Ortholog  <CTGGAGCGGCCACGATGTGAACTGTCACCGGCCACTGCTGCTCCG...  \n",
       "2   NCBI Ortholog  <TTCCCAATTTTTCCTCTGCTTTTTAATTTTCTAGTTTCCTTTTTC...  \n",
       "3   NCBI Ortholog  <CGCCCAGGCTGGAGTGCAGTGGCGCCATCTCGGCTCACTGCAGGC...  \n",
       "4   NCBI Ortholog                     <AGCATATTGTGGTGGTGACTGCTATTCC>  "
      ]
     },
     "execution_count": 4,
     "metadata": {},
     "output_type": "execute_result"
    }
   ],
   "source": [
    "df.head()"
   ]
  },
  {
   "cell_type": "markdown",
   "id": "429023de",
   "metadata": {},
   "source": []
  },
  {
   "cell_type": "code",
   "execution_count": 5,
   "id": "4f4eb8d3",
   "metadata": {},
   "outputs": [
    {
     "data": {
      "text/plain": [
       "Unnamed: 0            0\n",
       "NCBIGeneID            0\n",
       "Symbol                0\n",
       "Description           0\n",
       "GeneType              0\n",
       "GeneGroupMethod       0\n",
       "NucleotideSequence    0\n",
       "dtype: int64"
      ]
     },
     "execution_count": 5,
     "metadata": {},
     "output_type": "execute_result"
    }
   ],
   "source": [
    "df.isnull().sum()"
   ]
  },
  {
   "cell_type": "code",
   "execution_count": 6,
   "id": "1c6f194e",
   "metadata": {},
   "outputs": [
    {
     "data": {
      "text/html": [
       "<div>\n",
       "<style scoped>\n",
       "    .dataframe tbody tr th:only-of-type {\n",
       "        vertical-align: middle;\n",
       "    }\n",
       "\n",
       "    .dataframe tbody tr th {\n",
       "        vertical-align: top;\n",
       "    }\n",
       "\n",
       "    .dataframe thead th {\n",
       "        text-align: right;\n",
       "    }\n",
       "</style>\n",
       "<table border=\"1\" class=\"dataframe\">\n",
       "  <thead>\n",
       "    <tr style=\"text-align: right;\">\n",
       "      <th></th>\n",
       "      <th>Unnamed: 0</th>\n",
       "      <th>NCBIGeneID</th>\n",
       "    </tr>\n",
       "  </thead>\n",
       "  <tbody>\n",
       "    <tr>\n",
       "      <th>count</th>\n",
       "      <td>22593.000000</td>\n",
       "      <td>2.259300e+04</td>\n",
       "    </tr>\n",
       "    <tr>\n",
       "      <th>mean</th>\n",
       "      <td>9219.912318</td>\n",
       "      <td>9.133165e+07</td>\n",
       "    </tr>\n",
       "    <tr>\n",
       "      <th>std</th>\n",
       "      <td>5345.379611</td>\n",
       "      <td>4.328996e+07</td>\n",
       "    </tr>\n",
       "    <tr>\n",
       "      <th>min</th>\n",
       "      <td>0.000000</td>\n",
       "      <td>6.300000e+01</td>\n",
       "    </tr>\n",
       "    <tr>\n",
       "      <th>25%</th>\n",
       "      <td>4573.000000</td>\n",
       "      <td>1.002710e+08</td>\n",
       "    </tr>\n",
       "    <tr>\n",
       "      <th>50%</th>\n",
       "      <td>9239.000000</td>\n",
       "      <td>1.064802e+08</td>\n",
       "    </tr>\n",
       "    <tr>\n",
       "      <th>75%</th>\n",
       "      <td>13839.000000</td>\n",
       "      <td>1.210532e+08</td>\n",
       "    </tr>\n",
       "    <tr>\n",
       "      <th>max</th>\n",
       "      <td>19021.000000</td>\n",
       "      <td>1.249095e+08</td>\n",
       "    </tr>\n",
       "  </tbody>\n",
       "</table>\n",
       "</div>"
      ],
      "text/plain": [
       "         Unnamed: 0    NCBIGeneID\n",
       "count  22593.000000  2.259300e+04\n",
       "mean    9219.912318  9.133165e+07\n",
       "std     5345.379611  4.328996e+07\n",
       "min        0.000000  6.300000e+01\n",
       "25%     4573.000000  1.002710e+08\n",
       "50%     9239.000000  1.064802e+08\n",
       "75%    13839.000000  1.210532e+08\n",
       "max    19021.000000  1.249095e+08"
      ]
     },
     "execution_count": 6,
     "metadata": {},
     "output_type": "execute_result"
    }
   ],
   "source": [
    "df.describe()"
   ]
  },
  {
   "cell_type": "code",
   "execution_count": 7,
   "id": "4fca7ce0",
   "metadata": {},
   "outputs": [],
   "source": [
    "# Extract sequences and labels from the DataFrame\n",
    "sequences = df['NucleotideSequence']\n",
    "labels = df['GeneType']"
   ]
  },
  {
   "cell_type": "code",
   "execution_count": 8,
   "id": "d3da9ad0",
   "metadata": {},
   "outputs": [
    {
     "name": "stdout",
     "output_type": "stream",
     "text": [
      "\n",
      " Using max sequence length: 916 (95th percentile)\n"
     ]
    }
   ],
   "source": [
    "# Function to one-hot encode a nucleotide sequence with padding/truncation\n",
    "def one_hot_encode_seq(seq, max_len=300):\n",
    "    mapping = {\n",
    "        'A': [1, 0, 0, 0],\n",
    "        'C': [0, 1, 0, 0],\n",
    "        'G': [0, 0, 1, 0],\n",
    "        'T': [0, 0, 0, 1],\n",
    "        'N': [0.25, 0.25, 0.25, 0.25]  # Unknown/ambiguous base\n",
    "    }\n",
    "    encoding = [mapping.get(char.upper(), [0, 0, 0, 0]) for char in seq]\n",
    "\n",
    "    # Pad or truncate to max_len\n",
    "    if len(encoding) > max_len:\n",
    "        encoding = encoding[:max_len]\n",
    "    else:\n",
    "        while len(encoding) < max_len:\n",
    "            encoding.append([0, 0, 0, 0])\n",
    "\n",
    "    # Add normalized sequence length as a feature\n",
    "    seq_len = min(len(seq), max_len) / max_len\n",
    "    flattened = np.array(encoding).flatten().tolist()\n",
    "    flattened.append(seq_len)\n",
    "    return flattened\n",
    "\n",
    "# Determine max sequence length (95th percentile for dynamic padding)\n",
    "lengths = [len(seq) for seq in sequences]\n",
    "max_len = int(np.percentile(lengths, 95))\n",
    "print(f\"\\n Using max sequence length: {max_len} (95th percentile)\")\n",
    "\n",
    "# Encode all sequences in parallel for speed\n",
    "from joblib import Parallel, delayed\n",
    "X = np.array(Parallel(n_jobs=-1)(delayed(one_hot_encode_seq)(seq, max_len) for seq in sequences))\n"
   ]
  },
  {
   "cell_type": "code",
   "execution_count": 9,
   "id": "562cc4ed",
   "metadata": {},
   "outputs": [
    {
     "name": "stdout",
     "output_type": "stream",
     "text": [
      "\n",
      " Encoded label distribution: Counter({np.int64(3): 10220, np.int64(0): 6925, np.int64(4): 2497, np.int64(8): 1148, np.int64(2): 524, np.int64(9): 488, np.int64(1): 366, np.int64(5): 277, np.int64(7): 145, np.int64(6): 3})\n"
     ]
    }
   ],
   "source": [
    "# Encode target labels to integers\n",
    "le = LabelEncoder()\n",
    "y = le.fit_transform(labels)\n",
    "\n",
    "# Show distribution of encoded labels\n",
    "print(f\"\\n Encoded label distribution: {Counter(y)}\")"
   ]
  },
  {
   "cell_type": "code",
   "execution_count": 10,
   "id": "628e9d42",
   "metadata": {},
   "outputs": [
    {
     "name": "stdout",
     "output_type": "stream",
     "text": [
      "\n",
      " Computed class weights: {np.int64(0): np.float64(0.32624548736462095), np.int64(1): np.float64(6.168600682593857), np.int64(2): np.float64(4.313603818615752), np.int64(3): np.float64(0.22106164383561644), np.int64(4): np.float64(0.9046046046046046), np.int64(5): np.float64(8.141441441441442), np.int64(6): np.float64(903.7), np.int64(7): np.float64(15.581034482758621), np.int64(8): np.float64(1.9688453159041395), np.int64(9): np.float64(4.634358974358975)}\n"
     ]
    }
   ],
   "source": [
    "# Split data into training and validation sets with stratified sampling\n",
    "X_train, X_val, y_train, y_val = train_test_split(\n",
    "    X, y, test_size=0.2, random_state=42, stratify=y\n",
    ")\n",
    "\n",
    "# Compute class weights to handle class imbalance\n",
    "class_weights = compute_class_weight(\n",
    "    class_weight=\"balanced\",\n",
    "    classes=np.unique(y_train),\n",
    "    y=y_train\n",
    ")\n",
    "class_weight_dict = dict(zip(np.unique(y_train), class_weights))\n",
    "\n",
    "# Show computed class weights\n",
    "print(f\"\\n Computed class weights: {class_weight_dict}\")"
   ]
  },
  {
   "cell_type": "code",
   "execution_count": 14,
   "id": "356cef81",
   "metadata": {},
   "outputs": [],
   "source": [
    "# Define and train the Random Forest model\n",
    "def build_model(X_train, y_train):\n",
    "    model = RandomForestClassifier(\n",
    "        n_estimators=200,\n",
    "        max_depth=None,\n",
    "        min_samples_split=5,\n",
    "        min_samples_leaf=2,\n",
    "        class_weight=class_weight_dict,\n",
    "        random_state=42,\n",
    "        n_jobs=-1,\n",
    "        bootstrap=True,\n",
    "        oob_score=True,\n",
    "        max_features='sqrt'\n",
    "    )\n",
    "    model.fit(X_train, y_train)\n",
    "    return model\n"
   ]
  },
  {
   "cell_type": "code",
   "execution_count": 15,
   "id": "e07b4bed",
   "metadata": {},
   "outputs": [],
   "source": [
    "# Step 7: Evaluate Model\n",
    "def evaluate_model(model, X_val, y_val, le):\n",
    "    y_pred = model.predict(X_val)\n",
    "    acc = accuracy_score(y_val, y_pred)\n",
    "    f1 = f1_score(y_val, y_pred, average='weighted')\n",
    "    \n",
    "    print(f\"\\n Accuracy: {acc:.4f}\")\n",
    "    print(f\" Weighted F1 Score: {f1:.4f}\")\n",
    "    \n",
    "    print(\"\\n Classification Report:\")\n",
    "    print(classification_report(y_val, y_pred, target_names=le.classes_, zero_division=1))\n"
   ]
  },
  {
   "cell_type": "code",
   "execution_count": 18,
   "id": "2bf19022",
   "metadata": {},
   "outputs": [
    {
     "data": {
      "image/png": "[encoded data removed]",
      "text/plain": [
       "<Figure size 1000x400 with 2 Axes>"
      ]
     },
     "metadata": {},
     "output_type": "display_data"
    }
   ],
   "source": [
    "model = build_model(X_train, y_train)\n",
    "\n",
    "y_pred = model.predict(X_val)\n",
    "\n",
    "cm = confusion_matrix(y_val, y_pred)\n",
    "plt.figure(figsize=(10, 4))\n",
    "sns.heatmap(cm, annot=True, fmt='d', \n",
    "            xticklabels=le.classes_, \n",
    "            yticklabels=le.classes_, cmap='Blues')\n",
    "plt.title('Confusion Matrix')\n",
    "plt.xlabel('Predicted')\n",
    "plt.ylabel('Actual')\n",
    "plt.show()"
   ]
  },
  {
   "cell_type": "code",
   "execution_count": 19,
   "id": "9927fcbd",
   "metadata": {},
   "outputs": [
    {
     "data": {
      "image/png": "[encoded data removed]",
      "text/plain": [
       "<Figure size 1000x300 with 1 Axes>"
      ]
     },
     "metadata": {},
     "output_type": "display_data"
    }
   ],
   "source": [
    "if hasattr(model, 'feature_importances_'):\n",
    "    importances = model.feature_importances_\n",
    "    plt.figure(figsize=(10, 3))\n",
    "    plt.bar(range(len(importances)), importances)\n",
    "    plt.title('Feature Importances')\n",
    "    plt.xlabel('Feature Index')\n",
    "    plt.ylabel('Importance')\n",
    "    plt.tight_layout()\n",
    "    plt.show()\n"
   ]
  },
  {
   "cell_type": "code",
   "execution_count": 20,
   "id": "08092523",
   "metadata": {},
   "outputs": [
    {
     "name": "stdout",
     "output_type": "stream",
     "text": [
      "\n",
      " Accuracy: 0.7940\n",
      " Weighted F1 Score: 0.7885\n",
      "\n",
      " Classification Report:\n",
      "                   precision    recall  f1-score   support\n",
      "\n",
      "BIOLOGICAL_REGION       0.86      0.83      0.85      1385\n",
      "            OTHER       0.79      0.37      0.50        73\n",
      "   PROTEIN_CODING       0.74      0.25      0.37       105\n",
      "           PSEUDO       0.77      0.86      0.81      2044\n",
      "            ncRNA       0.71      0.70      0.70       499\n",
      "             rRNA       0.93      1.00      0.96        55\n",
      "            scRNA       1.00      0.00      0.00         1\n",
      "            snRNA       0.36      0.66      0.46        29\n",
      "           snoRNA       0.90      0.52      0.66       230\n",
      "             tRNA       0.91      0.93      0.92        98\n",
      "\n",
      "         accuracy                           0.79      4519\n",
      "        macro avg       0.80      0.61      0.62      4519\n",
      "     weighted avg       0.80      0.79      0.79      4519\n",
      "\n"
     ]
    }
   ],
   "source": [
    "evaluate_model(model, X_val, y_val, le)  # Final evaluation on validation set"
   ]
  },
  {
   "cell_type": "code",
   "execution_count": 21,
   "id": "41228323",
   "metadata": {},
   "outputs": [
    {
     "name": "stdout",
     "output_type": "stream",
     "text": [
      "\n",
      " Model and label encoder saved to disk.\n"
     ]
    }
   ],
   "source": [
    "import joblib\n",
    "\n",
    "joblib.dump(model, 'dna_classifier_rf.pkl')       # Save trained model\n",
    "joblib.dump(le, 'label_encoder.pkl')              # Save label encoder\n",
    "print(\"\\n Model and label encoder saved to disk.\")\n"
   ]
  },
  {
   "cell_type": "code",
   "execution_count": null,
   "id": "7997a519",
   "metadata": {},
   "outputs": [],
   "source": []
  }
 ],
 "metadata": {
  "kernelspec": {
   "display_name": "MachineLearning",
   "language": "python",
   "name": "python3"
  },
  "language_info": {
   "codemirror_mode": {
    "name": "ipython",
    "version": 3
   },
   "file_extension": ".py",
   "mimetype": "text/x-python",
   "name": "python",
   "nbconvert_exporter": "python",
   "pygments_lexer": "ipython3",
   "version": "3.12.9"
  }
 },
 "nbformat": 4,
 "nbformat_minor": 5
}
